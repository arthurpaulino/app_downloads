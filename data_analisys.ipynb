{
 "cells": [
  {
   "cell_type": "code",
   "execution_count": 1,
   "metadata": {},
   "outputs": [],
   "source": [
    "import matplotlib.pyplot as plt\n",
    "import pandas as pd\n",
    "import numpy as np\n",
    "import time\n",
    "import gc\n",
    "\n",
    "%matplotlib inline\n",
    "pd.options.display.float_format = '{:.5f}'.format\n",
    "\n",
    "train_columns = ['ip', 'app', 'os', 'device', 'channel', 'click_time', 'is_attributed']\n",
    "dtypes = { # dizendo manualmente o tipo do dado a ser importado pra economizar memória ram. o padrão seria uint64\n",
    "            'ip'            : 'uint32',\n",
    "            'app'           : 'uint16',\n",
    "            'os'            : 'uint16',\n",
    "            'device'        : 'uint16',\n",
    "            'channel'       : 'uint16',\n",
    "            'is_attributed' : 'uint8'\n",
    "        }"
   ]
  },
  {
   "cell_type": "code",
   "execution_count": 2,
   "metadata": {},
   "outputs": [],
   "source": [
    "data_perc = 0.03 # cuidado aqui"
   ]
  },
  {
   "cell_type": "markdown",
   "metadata": {},
   "source": [
    "# carregando do csv"
   ]
  },
  {
   "cell_type": "code",
   "execution_count": 3,
   "metadata": {},
   "outputs": [
    {
     "name": "stdout",
     "output_type": "stream",
     "text": [
      "5.84s to load train data\n"
     ]
    }
   ],
   "source": [
    "train_size_total = 184903890\n",
    "train_size = int(data_perc*train_size_total)\n",
    "\n",
    "start = time.time()\n",
    "data_train = pd.read_csv('input/train.csv', nrows=train_size, usecols=train_columns, parse_dates=['click_time'], dtype=dtypes)\n",
    "print('{:.2f}s to load train data'.format(time.time()-start))"
   ]
  },
  {
   "cell_type": "markdown",
   "metadata": {},
   "source": [
    "# extraindo features interessantes\n",
    "\n",
    "* `ip_clicks_on_app_perc`: o percentual de clicks daquele ip naquele aplicativo em relação a todos os clicks daquele ip\n",
    "\n",
    "* `os_clicks_on_app_perc`: o percentual de clicks daquele os naquele aplicativo em relação a todos os clicks daquele os\n",
    "\n",
    "* `channel_clicks_on_app_perc`: o percentual de clicks daquele channel naquele aplicativo em relação a todos os clicks daquele channel\n",
    "\n",
    "* `device_clicks_on_app_perc`: o percentual de clicks daquele device naquele aplicativo em relação a todos os clicks daquele device\n",
    "\n",
    "* `ip_total_clicks`: o total de clicks feitos por aquele ip\n",
    "\n",
    "* `ip_total_clicks_on_app`: o total de clicks feitos por aquele ip naquele aplicativo\n",
    "\n",
    "* `ip_os_total_clicks_on_app`: o total de clicks feitos por aquela combinação de ip e os naquele aplicativo\n",
    "\n",
    "* `ip_os_total_clicks`: o total de clicks feitos por aquela combinação de ip e os\n",
    "\n",
    "* `ip_os_clicks_on_app_perc`: o percentual de clicks feitos por aquela combinação de ip e os naquele aplicativo em relação à quantidade total de clicks que aquela combinação de ip e os executou\n",
    "\n",
    "* `ip_activity_on_app_duration`: o intervalo de tempo em segundos entre o primeiro e o último click daquele ip naquele aplicativo\n",
    "\n",
    "* `ip_clicks_on_app_frequency`: a quantidade de clicks que aquele ip faz naquele aplicativo por segundo\n",
    "\n",
    "* `ip_activity_intervals_std`: o desvio padrão dos os intervalos de tempo em segundos entre os clicks daquele ip\n",
    "\n",
    "* `ip_total_activity_duration`: o intervalo de tempo em segundos do primeiro até o último click daquele ip\n",
    "\n",
    "* `ip_activity_on_app_duration_perc`: o percentual do tempo que aquele ip passou clickando naquele aplicativo em relação ao tempo total que aquele ip passou clickando\n",
    "\n",
    "* `ip_clicks_frequency`: a quantidade de clicks por segundo daquele ip\n",
    "\n",
    "* `os`: originalmente, o id do sistema operacional. mas substituí pelo percentual de downloads daquele sistema operacional em relação a todos os clicks feitos com aquele sistema operacional\n",
    "\n",
    "* `channel`: originalmente, o id do canal[?]. mas substituí pelo percentual de downloads daquele canal em relação a todos os clicks feitos com aquele canal\n",
    "\n",
    "* `device`: originalmente, o id do dispositivo móvel. mas substituí pelo percentual de downloads daquele dispositivo em relação a todos os clicks feitos com aquele dispositivo\n",
    "\n",
    "* `app`: originalmente, o id do aplicativo. mas substituí pelo percentual de downloads daquele app em relação a todos os clicks feitos com aquele app"
   ]
  },
  {
   "cell_type": "code",
   "execution_count": 4,
   "metadata": {},
   "outputs": [],
   "source": [
    "def get_attributed(obj):\n",
    "    sm = obj.sum()\n",
    "    if np.isnan(sm):\n",
    "        return 0\n",
    "    return sm\n",
    "\n",
    "def replace_base_features_by_their_perc(combine, features):\n",
    "    for feature in features:\n",
    "        start = time.time()\n",
    "        total = combine.groupby(feature)[feature].transform('count').astype('uint32')\n",
    "        attributed = combine.groupby(feature)['is_attributed'].transform(get_attributed)\n",
    "        combine[feature] = attributed/total\n",
    "        del total, attributed\n",
    "        gc.collect()\n",
    "        print('{:.2f}s to remake feature {}'.format(time.time()-start, feature))\n",
    "\n",
    "def get_timediff(obj):\n",
    "    return max(1, (obj.max()-obj.min()).total_seconds())\n",
    "\n",
    "def get_intervals_std(obj):\n",
    "    if len(obj)<=2:\n",
    "        return 1000\n",
    "    intervals = []\n",
    "    obj = obj.tolist()\n",
    "    for i in range(len(obj)-1):\n",
    "        intervals.append( (obj[i+1] - obj[i]).total_seconds() )\n",
    "    std = np.array(intervals).std()\n",
    "    return std\n",
    "\n",
    "def generate_clicks_on_app_features(combine, features):\n",
    "    for feature in features:\n",
    "        derived_feature = feature+'_clicks_on_app_perc'\n",
    "        start = time.time()\n",
    "        total_clicks = combine.groupby(feature)[feature].transform('count')\n",
    "        clicks_on_app = combine.groupby([feature, 'app'])[feature].transform('count')\n",
    "        combine[derived_feature] = clicks_on_app/total_clicks\n",
    "        print('{:.2f}s to generate feature {}'.format(time.time()-start, derived_feature))\n",
    "\n",
    "        if feature=='ip':\n",
    "            combine['ip_total_clicks'] = total_clicks.astype('uint16')\n",
    "            print('feature ip_total_clicks created (no extra time)')\n",
    "            combine['ip_total_clicks_on_app'] = clicks_on_app.astype('uint16')\n",
    "            print('feature ip_total_clicks_on_app created (no extra time)')\n",
    "        else:\n",
    "            del clicks_on_app\n",
    "            del total_clicks\n",
    "        gc.collect()\n",
    "\n",
    "def process_data(combine):\n",
    "    start = time.time()\n",
    "    \n",
    "    generate_clicks_on_app_features(combine, ['ip', 'os', 'device', 'channel'])\n",
    "    \n",
    "    start = time.time()\n",
    "    combine['ip_os_total_clicks_on_app'] = combine.groupby(['ip', 'os', 'app'])['ip'].transform('count').astype('uint16')\n",
    "    print('{:.2f}s to generate feature ip_os_total_clicks_on_app'.format(time.time()-start))\n",
    "    gc.collect()\n",
    "    \n",
    "    start = time.time()\n",
    "    combine['ip_os_total_clicks'] = combine.groupby(['ip', 'os'])['ip'].transform('count').astype('uint16')\n",
    "    print('{:.2f}s to generate feature ip_os_total_clicks'.format(time.time()-start))\n",
    "    gc.collect()\n",
    "    \n",
    "    start = time.time()\n",
    "    combine['ip_os_clicks_on_app_perc'] = combine['ip_os_total_clicks_on_app']/combine['ip_os_total_clicks']\n",
    "    print('{:.2f}s to generate feature ip_os_clicks_on_app_perc'.format(time.time()-start))\n",
    "    gc.collect()\n",
    "    \n",
    "    start = time.time()\n",
    "    combine['ip_activity_on_app_duration'] = combine.groupby(['ip', 'app'])['click_time'].transform(get_timediff).astype('uint32')\n",
    "    print('{:.2f}s to generate feature ip_activity_on_app_duration'.format(time.time()-start))\n",
    "    gc.collect()\n",
    "    \n",
    "    start = time.time()\n",
    "    combine['ip_clicks_on_app_frequency'] = combine['ip_total_clicks_on_app']/combine['ip_activity_on_app_duration']\n",
    "    print('{:.2f}s to generate feature ip_clicks_on_app_frequency'.format(time.time()-start))\n",
    "    gc.collect()\n",
    "    \n",
    "    start = time.time()\n",
    "    combine['ip_activity_intervals_std'] = combine.groupby('ip')['click_time'].transform(get_intervals_std)\n",
    "    print('{:.2f}s to generate feature ip_activity_intervals_std'.format(time.time()-start))\n",
    "    gc.collect()\n",
    "    \n",
    "    start = time.time()\n",
    "    combine['ip_total_activity_duration'] = combine.groupby('ip')['click_time'].transform(get_timediff).astype('uint32')\n",
    "    print('{:.2f}s to generate feature ip_total_activity_duration'.format(time.time()-start))\n",
    "    gc.collect()\n",
    "    \n",
    "    start = time.time()\n",
    "    combine['ip_clicks_frequency'] = combine['ip_total_clicks']/combine['ip_total_activity_duration']\n",
    "    print('{:.2f}s to generate feature ip_total_activity_duration'.format(time.time()-start))\n",
    "    gc.collect()\n",
    "    \n",
    "    start = time.time()\n",
    "    combine['ip_activity_on_app_duration_perc'] = combine['ip_activity_on_app_duration']/combine['ip_total_activity_duration']\n",
    "    print('{:.2f}s to generate feature ip_activity_on_app_duration_perc'.format(time.time()-start))\n",
    "    gc.collect()\n",
    "    \n",
    "    combine.drop(columns=['ip', 'click_time'], inplace=True)\n",
    "    gc.collect()\n",
    "    \n",
    "    replace_base_features_by_their_perc(combine, ['app', 'os', 'device', 'channel'])\n",
    "    gc.collect()"
   ]
  },
  {
   "cell_type": "code",
   "execution_count": 5,
   "metadata": {},
   "outputs": [
    {
     "name": "stdout",
     "output_type": "stream",
     "text": [
      "3.01s to generate feature ip_clicks_on_app_perc\n",
      "feature ip_total_clicks created (no extra time)\n",
      "feature ip_total_clicks_on_app created (no extra time)\n",
      "0.63s to generate feature os_clicks_on_app_perc\n",
      "0.64s to generate feature device_clicks_on_app_perc\n",
      "0.77s to generate feature channel_clicks_on_app_perc\n",
      "1.78s to generate feature ip_os_total_clicks_on_app\n",
      "0.78s to generate feature ip_os_total_clicks\n",
      "0.03s to generate feature ip_os_clicks_on_app_perc\n",
      "245.01s to generate feature ip_activity_on_app_duration\n",
      "0.04s to generate feature ip_clicks_on_app_frequency\n",
      "99.15s to generate feature ip_activity_intervals_std\n",
      "22.57s to generate feature ip_total_activity_duration\n",
      "0.05s to generate feature ip_total_activity_duration\n",
      "0.05s to generate feature ip_activity_on_app_duration_perc\n",
      "1.32s to remake feature app\n",
      "1.76s to remake feature os\n",
      "1.77s to remake feature device\n",
      "2.09s to remake feature channel\n",
      "382.85s to process data (14488.98 lines/s)\n"
     ]
    }
   ],
   "source": [
    "start = time.time()\n",
    "process_data(data_train)\n",
    "process_time = time.time()-start\n",
    "print('{:.2f}s to process data ({:.2f} lines/s)'.format(process_time, data_train.shape[0]/process_time))"
   ]
  },
  {
   "cell_type": "markdown",
   "metadata": {},
   "source": [
    "# valores médios de cada feature"
   ]
  },
  {
   "cell_type": "markdown",
   "metadata": {},
   "source": [
    "### clicks seguidos de download"
   ]
  },
  {
   "cell_type": "code",
   "execution_count": 6,
   "metadata": {},
   "outputs": [
    {
     "data": {
      "text/html": [
       "<div>\n",
       "<style scoped>\n",
       "    .dataframe tbody tr th:only-of-type {\n",
       "        vertical-align: middle;\n",
       "    }\n",
       "\n",
       "    .dataframe tbody tr th {\n",
       "        vertical-align: top;\n",
       "    }\n",
       "\n",
       "    .dataframe thead th {\n",
       "        text-align: right;\n",
       "    }\n",
       "</style>\n",
       "<table border=\"1\" class=\"dataframe\">\n",
       "  <thead>\n",
       "    <tr style=\"text-align: right;\">\n",
       "      <th></th>\n",
       "      <th>app</th>\n",
       "      <th>device</th>\n",
       "      <th>os</th>\n",
       "      <th>channel</th>\n",
       "      <th>ip_clicks_on_app_perc</th>\n",
       "      <th>ip_total_clicks</th>\n",
       "      <th>ip_total_clicks_on_app</th>\n",
       "      <th>os_clicks_on_app_perc</th>\n",
       "      <th>device_clicks_on_app_perc</th>\n",
       "      <th>channel_clicks_on_app_perc</th>\n",
       "      <th>ip_os_total_clicks_on_app</th>\n",
       "      <th>ip_os_total_clicks</th>\n",
       "      <th>ip_os_clicks_on_app_perc</th>\n",
       "      <th>ip_activity_on_app_duration</th>\n",
       "      <th>ip_clicks_on_app_frequency</th>\n",
       "      <th>ip_activity_intervals_std</th>\n",
       "      <th>ip_total_activity_duration</th>\n",
       "      <th>ip_clicks_frequency</th>\n",
       "      <th>ip_activity_on_app_duration_perc</th>\n",
       "    </tr>\n",
       "  </thead>\n",
       "  <tbody>\n",
       "    <tr>\n",
       "      <th>mean</th>\n",
       "      <td>0.22313</td>\n",
       "      <td>0.05100</td>\n",
       "      <td>0.04405</td>\n",
       "      <td>0.17244</td>\n",
       "      <td>0.37831</td>\n",
       "      <td>608.49533</td>\n",
       "      <td>17.10631</td>\n",
       "      <td>0.22683</td>\n",
       "      <td>0.21214</td>\n",
       "      <td>0.50855</td>\n",
       "      <td>3.92124</td>\n",
       "      <td>76.51743</td>\n",
       "      <td>0.65550</td>\n",
       "      <td>2546.20337</td>\n",
       "      <td>0.66919</td>\n",
       "      <td>862.23883</td>\n",
       "      <td>10051.38902</td>\n",
       "      <td>0.29090</td>\n",
       "      <td>0.45261</td>\n",
       "    </tr>\n",
       "    <tr>\n",
       "      <th>std</th>\n",
       "      <td>0.26441</td>\n",
       "      <td>0.10913</td>\n",
       "      <td>0.06880</td>\n",
       "      <td>0.24455</td>\n",
       "      <td>0.42905</td>\n",
       "      <td>2951.23206</td>\n",
       "      <td>164.76792</td>\n",
       "      <td>0.32675</td>\n",
       "      <td>0.29669</td>\n",
       "      <td>0.35324</td>\n",
       "      <td>33.05855</td>\n",
       "      <td>548.97469</td>\n",
       "      <td>0.42103</td>\n",
       "      <td>5755.24742</td>\n",
       "      <td>0.53355</td>\n",
       "      <td>920.45396</td>\n",
       "      <td>8855.88071</td>\n",
       "      <td>0.50806</td>\n",
       "      <td>0.46580</td>\n",
       "    </tr>\n",
       "  </tbody>\n",
       "</table>\n",
       "</div>"
      ],
      "text/plain": [
       "         app  device      os  channel  ip_clicks_on_app_perc  ip_total_clicks  \\\n",
       "mean 0.22313 0.05100 0.04405  0.17244                0.37831        608.49533   \n",
       "std  0.26441 0.10913 0.06880  0.24455                0.42905       2951.23206   \n",
       "\n",
       "      ip_total_clicks_on_app  os_clicks_on_app_perc  \\\n",
       "mean                17.10631                0.22683   \n",
       "std                164.76792                0.32675   \n",
       "\n",
       "      device_clicks_on_app_perc  channel_clicks_on_app_perc  \\\n",
       "mean                    0.21214                     0.50855   \n",
       "std                     0.29669                     0.35324   \n",
       "\n",
       "      ip_os_total_clicks_on_app  ip_os_total_clicks  ip_os_clicks_on_app_perc  \\\n",
       "mean                    3.92124            76.51743                   0.65550   \n",
       "std                    33.05855           548.97469                   0.42103   \n",
       "\n",
       "      ip_activity_on_app_duration  ip_clicks_on_app_frequency  \\\n",
       "mean                   2546.20337                     0.66919   \n",
       "std                    5755.24742                     0.53355   \n",
       "\n",
       "      ip_activity_intervals_std  ip_total_activity_duration  \\\n",
       "mean                  862.23883                 10051.38902   \n",
       "std                   920.45396                  8855.88071   \n",
       "\n",
       "      ip_clicks_frequency  ip_activity_on_app_duration_perc  \n",
       "mean              0.29090                           0.45261  \n",
       "std               0.50806                           0.46580  "
      ]
     },
     "execution_count": 6,
     "metadata": {},
     "output_type": "execute_result"
    }
   ],
   "source": [
    "data_train[data_train['is_attributed']==1].describe().drop(columns=['is_attributed'])[1:3]"
   ]
  },
  {
   "cell_type": "markdown",
   "metadata": {},
   "source": [
    "### clicks não seguidos de downloads"
   ]
  },
  {
   "cell_type": "code",
   "execution_count": 7,
   "metadata": {},
   "outputs": [
    {
     "data": {
      "text/html": [
       "<div>\n",
       "<style scoped>\n",
       "    .dataframe tbody tr th:only-of-type {\n",
       "        vertical-align: middle;\n",
       "    }\n",
       "\n",
       "    .dataframe tbody tr th {\n",
       "        vertical-align: top;\n",
       "    }\n",
       "\n",
       "    .dataframe thead th {\n",
       "        text-align: right;\n",
       "    }\n",
       "</style>\n",
       "<table border=\"1\" class=\"dataframe\">\n",
       "  <thead>\n",
       "    <tr style=\"text-align: right;\">\n",
       "      <th></th>\n",
       "      <th>app</th>\n",
       "      <th>device</th>\n",
       "      <th>os</th>\n",
       "      <th>channel</th>\n",
       "      <th>ip_clicks_on_app_perc</th>\n",
       "      <th>ip_total_clicks</th>\n",
       "      <th>ip_total_clicks_on_app</th>\n",
       "      <th>os_clicks_on_app_perc</th>\n",
       "      <th>device_clicks_on_app_perc</th>\n",
       "      <th>channel_clicks_on_app_perc</th>\n",
       "      <th>ip_os_total_clicks_on_app</th>\n",
       "      <th>ip_os_total_clicks</th>\n",
       "      <th>ip_os_clicks_on_app_perc</th>\n",
       "      <th>ip_activity_on_app_duration</th>\n",
       "      <th>ip_clicks_on_app_frequency</th>\n",
       "      <th>ip_activity_intervals_std</th>\n",
       "      <th>ip_total_activity_duration</th>\n",
       "      <th>ip_clicks_frequency</th>\n",
       "      <th>ip_activity_on_app_duration_perc</th>\n",
       "    </tr>\n",
       "  </thead>\n",
       "  <tbody>\n",
       "    <tr>\n",
       "      <th>mean</th>\n",
       "      <td>0.00144</td>\n",
       "      <td>0.00176</td>\n",
       "      <td>0.00177</td>\n",
       "      <td>0.00154</td>\n",
       "      <td>0.14750</td>\n",
       "      <td>1568.62916</td>\n",
       "      <td>205.64506</td>\n",
       "      <td>0.09736</td>\n",
       "      <td>0.09698</td>\n",
       "      <td>0.64425</td>\n",
       "      <td>37.73935</td>\n",
       "      <td>232.59048</td>\n",
       "      <td>0.24543</td>\n",
       "      <td>14092.43383</td>\n",
       "      <td>0.06385</td>\n",
       "      <td>393.52767</td>\n",
       "      <td>18276.24875</td>\n",
       "      <td>0.08159</td>\n",
       "      <td>0.74797</td>\n",
       "    </tr>\n",
       "    <tr>\n",
       "      <th>std</th>\n",
       "      <td>0.01378</td>\n",
       "      <td>0.00804</td>\n",
       "      <td>0.00814</td>\n",
       "      <td>0.01231</td>\n",
       "      <td>0.14706</td>\n",
       "      <td>4282.50870</td>\n",
       "      <td>693.75952</td>\n",
       "      <td>0.07600</td>\n",
       "      <td>0.07232</td>\n",
       "      <td>0.29199</td>\n",
       "      <td>133.16634</td>\n",
       "      <td>799.54718</td>\n",
       "      <td>0.23912</td>\n",
       "      <td>7025.50321</td>\n",
       "      <td>0.24135</td>\n",
       "      <td>517.90154</td>\n",
       "      <td>4101.80131</td>\n",
       "      <td>0.23124</td>\n",
       "      <td>0.32665</td>\n",
       "    </tr>\n",
       "  </tbody>\n",
       "</table>\n",
       "</div>"
      ],
      "text/plain": [
       "         app  device      os  channel  ip_clicks_on_app_perc  ip_total_clicks  \\\n",
       "mean 0.00144 0.00176 0.00177  0.00154                0.14750       1568.62916   \n",
       "std  0.01378 0.00804 0.00814  0.01231                0.14706       4282.50870   \n",
       "\n",
       "      ip_total_clicks_on_app  os_clicks_on_app_perc  \\\n",
       "mean               205.64506                0.09736   \n",
       "std                693.75952                0.07600   \n",
       "\n",
       "      device_clicks_on_app_perc  channel_clicks_on_app_perc  \\\n",
       "mean                    0.09698                     0.64425   \n",
       "std                     0.07232                     0.29199   \n",
       "\n",
       "      ip_os_total_clicks_on_app  ip_os_total_clicks  ip_os_clicks_on_app_perc  \\\n",
       "mean                   37.73935           232.59048                   0.24543   \n",
       "std                   133.16634           799.54718                   0.23912   \n",
       "\n",
       "      ip_activity_on_app_duration  ip_clicks_on_app_frequency  \\\n",
       "mean                  14092.43383                     0.06385   \n",
       "std                    7025.50321                     0.24135   \n",
       "\n",
       "      ip_activity_intervals_std  ip_total_activity_duration  \\\n",
       "mean                  393.52767                 18276.24875   \n",
       "std                   517.90154                  4101.80131   \n",
       "\n",
       "      ip_clicks_frequency  ip_activity_on_app_duration_perc  \n",
       "mean              0.08159                           0.74797  \n",
       "std               0.23124                           0.32665  "
      ]
     },
     "execution_count": 7,
     "metadata": {},
     "output_type": "execute_result"
    }
   ],
   "source": [
    "data_train[data_train['is_attributed']==0].describe().drop(columns=['is_attributed'])[1:3]"
   ]
  },
  {
   "cell_type": "markdown",
   "metadata": {},
   "source": [
    "# treinamento"
   ]
  },
  {
   "cell_type": "code",
   "execution_count": 8,
   "metadata": {},
   "outputs": [],
   "source": [
    "from sklearn.model_selection import train_test_split\n",
    "from xgboost import XGBClassifier, plot_importance\n",
    "\n",
    "X = data_train.drop(columns=['is_attributed'])\n",
    "y = data_train['is_attributed']"
   ]
  },
  {
   "cell_type": "code",
   "execution_count": 9,
   "metadata": {},
   "outputs": [
    {
     "name": "stdout",
     "output_type": "stream",
     "text": [
      "4.07s to split data in train/test\n"
     ]
    }
   ],
   "source": [
    "start = time.time()\n",
    "X_train, X_test, y_train, y_test = train_test_split(X, y, test_size=0.1, stratify=y)\n",
    "gc.collect()\n",
    "print('{:.2f}s to split data in train/test'.format(time.time()-start))"
   ]
  },
  {
   "cell_type": "code",
   "execution_count": 10,
   "metadata": {},
   "outputs": [
    {
     "name": "stdout",
     "output_type": "stream",
     "text": [
      "0.59s to compute unbalance factor: 539.0229750778816\n"
     ]
    }
   ],
   "source": [
    "start = time.time()\n",
    "unbalance_factor = data_train[data_train['is_attributed']==0].shape[0]/data_train[data_train['is_attributed']==1].shape[0]\n",
    "del data_train\n",
    "gc.collect()\n",
    "print('{:.2f}s to compute unbalance factor: {}'.format(time.time()-start, unbalance_factor))"
   ]
  },
  {
   "cell_type": "code",
   "execution_count": 11,
   "metadata": {},
   "outputs": [],
   "source": [
    "# https://github.com/dmlc/xgboost/blob/master/doc/parameter.md\n",
    "xgb_params = {\n",
    "    'max_depth': 0,\n",
    "    'max_leaves': 2048,\n",
    "    'learning_rate': 0.2,\n",
    "    'n_estimators': 300,\n",
    "    'subsample': 0.8,\n",
    "    'colsample_bytree': 0.6,\n",
    "    'colsample_bylevel': 0.6,\n",
    "    'min_child_weight': 0,\n",
    "    'reg_alpha': 5,\n",
    "    'reg_lambda': 0.1,\n",
    "    'scale_pos_weight': unbalance_factor,\n",
    "    'random_state': int(time.time()),\n",
    "    'n_jobs': 4,\n",
    "    'grow_policy': 'lossguide',\n",
    "    'tree_method': 'hist',\n",
    "    'predictor': 'cpu_predictor',\n",
    "    'objective': 'binary:logistic'\n",
    "}\n",
    "\n",
    "xgbc = XGBClassifier(**xgb_params)"
   ]
  },
  {
   "cell_type": "code",
   "execution_count": 12,
   "metadata": {},
   "outputs": [
    {
     "name": "stdout",
     "output_type": "stream",
     "text": [
      "[0]\tvalidation_0-auc:0.931962\n",
      "Will train until validation_0-auc hasn't improved in 30 rounds.\n",
      "[5]\tvalidation_0-auc:0.918503\n",
      "[10]\tvalidation_0-auc:0.93511\n",
      "[15]\tvalidation_0-auc:0.947133\n",
      "[20]\tvalidation_0-auc:0.953605\n",
      "[25]\tvalidation_0-auc:0.958297\n",
      "[30]\tvalidation_0-auc:0.962872\n",
      "[35]\tvalidation_0-auc:0.963377\n",
      "[40]\tvalidation_0-auc:0.962915\n",
      "[45]\tvalidation_0-auc:0.962792\n",
      "[50]\tvalidation_0-auc:0.962019\n",
      "[55]\tvalidation_0-auc:0.961142\n",
      "[60]\tvalidation_0-auc:0.961115\n",
      "Stopping. Best iteration:\n",
      "[33]\tvalidation_0-auc:0.963754\n",
      "\n",
      "119.05s to perform training\n"
     ]
    }
   ],
   "source": [
    "start = time.time()\n",
    "xgbc.fit(X_train, y_train, # treina com esse conjunto de entradas e saídas\n",
    "         eval_set=[(X_test, y_test)], # avalia a qualidade do modelo com esses elementos desconhecidos\n",
    "         eval_metric='auc', # http://scikit-learn.org/stable/modules/generated/sklearn.metrics.roc_auc_score.html\n",
    "         early_stopping_rounds=30, # parar se o modelo não conseguir melhorar o desempenho no conjunto de validação em 30 rounds\n",
    "         verbose=5 # mostrar reports a cada 5 rounds de boosting\n",
    "        )\n",
    "\n",
    "print('{:.2f}s to perform training'.format(time.time()-start))"
   ]
  },
  {
   "cell_type": "code",
   "execution_count": 13,
   "metadata": {},
   "outputs": [
    {
     "data": {
      "text/plain": [
       "<matplotlib.axes._subplots.AxesSubplot at 0x7fc8c2e40fd0>"
      ]
     },
     "execution_count": 13,
     "metadata": {},
     "output_type": "execute_result"
    },
    {
     "data": {
      "image/png": "[encoded data removed]",
      "text/plain": [
       "<matplotlib.figure.Figure at 0x7fc8c2e40898>"
      ]
     },
     "metadata": {},
     "output_type": "display_data"
    }
   ],
   "source": [
    "_, ax = plt.subplots(figsize=(10,10))\n",
    "plot_importance(xgbc, ax=ax)"
   ]
  },
  {
   "cell_type": "code",
   "execution_count": 14,
   "metadata": {},
   "outputs": [
    {
     "data": {
      "text/plain": [
       "41"
      ]
     },
     "execution_count": 14,
     "metadata": {},
     "output_type": "execute_result"
    }
   ],
   "source": [
    "del X_train, X_test, y_train, y_test, X, y\n",
    "gc.collect()"
   ]
  }
 ],
 "metadata": {
  "kernelspec": {
   "display_name": "Python 3",
   "language": "python",
   "name": "python3"
  },
  "language_info": {
   "codemirror_mode": {
    "name": "ipython",
    "version": 3
   },
   "file_extension": ".py",
   "mimetype": "text/x-python",
   "name": "python",
   "nbconvert_exporter": "python",
   "pygments_lexer": "ipython3",
   "version": "3.6.4"
  }
 },
 "nbformat": 4,
 "nbformat_minor": 2
}
